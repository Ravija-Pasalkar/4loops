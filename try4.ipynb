{
 "cells": [
  {
   "cell_type": "code",
   "execution_count": 1,
   "metadata": {},
   "outputs": [],
   "source": [
    "import pandas as pd\n",
    "\n",
    "# Load datasets\n",
    "static_data = pd.read_csv(r\"datasets\\static_client_data.csv\")\n",
    "historical_data = pd.read_csv(r\"datasets\\time_series_data.csv\")\n",
    "target_data = pd.read_csv(r\"datasets\\target_data.csv\")"
   ]
  },
  {
   "cell_type": "code",
   "execution_count": 2,
   "metadata": {},
   "outputs": [
    {
     "name": "stdout",
     "output_type": "stream",
     "text": [
      "                              client_id  age gender employment_status  \\\n",
      "0  96c4c0a3-bb3f-4ac1-81ad-0850cd29911f   63  Other          Salaried   \n",
      "1  35fb4c11-fb1a-4eeb-addc-bd6ff6cb7934   43   Male          Salaried   \n",
      "2  e5aafbe0-c869-41d9-acf1-1b019363e449   56  Other          Salaried   \n",
      "3  43b978dd-4dd5-4f21-96d2-63ab16c814a3   37  Other           Retired   \n",
      "4  abe77866-df1b-4a5c-ad96-eb78dff4ffc9   42   Male     Self-Employed   \n",
      "\n",
      "   annual_income  debt_to_income_ratio  financial_knowledge_score  \\\n",
      "0       61244.14                  0.49                          5   \n",
      "1      111338.35                  0.39                          1   \n",
      "2       27581.32                  0.12                          5   \n",
      "3       64813.50                  0.44                          4   \n",
      "4      108668.65                  0.35                          2   \n",
      "\n",
      "      investment_goals risk_appetite  investment_horizon_years  dependents  \\\n",
      "0           Retirement        Medium                         9           1   \n",
      "1        Home Purchase           Low                        19           3   \n",
      "2  Wealth Accumulation        Medium                        13           3   \n",
      "3           Retirement        Medium                         3           2   \n",
      "4            Education           Low                        19           0   \n",
      "\n",
      "    preferred_asset_classes  savings_rate   net_worth recommended_strategy  \n",
      "0  ['Bonds', 'Real Estate']          0.09   150946.53         Conservative  \n",
      "1       ['Stocks', 'Bonds']          0.29  1072347.37         Conservative  \n",
      "2   ['Real Estate', 'ETFs']          0.07   177370.90         Conservative  \n",
      "3         ['Bonds', 'ETFs']          0.22   523811.23             Balanced  \n",
      "4        ['ETFs', 'Stocks']          0.21   938672.67             Balanced  \n"
     ]
    }
   ],
   "source": [
    "# Merge with target data (only taking 'recommended_strategy')\n",
    "merged_data = static_data.merge(target_data[[\"client_id\", \"recommended_strategy\"]], on=\"client_id\", how=\"left\")\n",
    "\n",
    "# Check the final dataset\n",
    "print(merged_data.head())"
   ]
  },
  {
   "cell_type": "code",
   "execution_count": 3,
   "metadata": {},
   "outputs": [
    {
     "data": {
      "text/plain": [
       "client_id                    0\n",
       "age                          0\n",
       "gender                       0\n",
       "employment_status            0\n",
       "annual_income                0\n",
       "debt_to_income_ratio         0\n",
       "financial_knowledge_score    0\n",
       "investment_goals             0\n",
       "risk_appetite                0\n",
       "investment_horizon_years     0\n",
       "dependents                   0\n",
       "preferred_asset_classes      0\n",
       "savings_rate                 0\n",
       "net_worth                    0\n",
       "recommended_strategy         0\n",
       "dtype: int64"
      ]
     },
     "execution_count": 3,
     "metadata": {},
     "output_type": "execute_result"
    }
   ],
   "source": [
    "merged_data.isnull().sum()"
   ]
  },
  {
   "cell_type": "code",
   "execution_count": 4,
   "metadata": {},
   "outputs": [
    {
     "data": {
      "text/plain": [
       "np.int64(0)"
      ]
     },
     "execution_count": 4,
     "metadata": {},
     "output_type": "execute_result"
    }
   ],
   "source": [
    "merged_data.duplicated().sum()"
   ]
  },
  {
   "cell_type": "code",
   "execution_count": 5,
   "metadata": {},
   "outputs": [],
   "source": [
    "merged_data[\"income_to_networth_ratio\"] = merged_data[\"annual_income\"] / (merged_data[\"net_worth\"] + 1e-6)\n",
    "merged_data[\"adjusted_debt_to_income\"] = merged_data[\"debt_to_income_ratio\"] * merged_data[\"annual_income\"]"
   ]
  },
  {
   "cell_type": "code",
   "execution_count": 10,
   "metadata": {},
   "outputs": [],
   "source": [
    "merged_data[\"annual_income\"] = merged_data[\"annual_income\"].clip(lower=0)\n",
    "merged_data[\"net_worth\"] = merged_data[\"net_worth\"].clip(lower=0)"
   ]
  },
  {
   "cell_type": "code",
   "execution_count": 11,
   "metadata": {},
   "outputs": [],
   "source": [
    "import numpy as np\n",
    "\n",
    "merged_data[\"age_group\"] = pd.cut(\n",
    "    merged_data[\"age\"], bins=[18, 35, 55, np.inf], labels=[\"Young\", \"Mid-age\", \"Senior\"], include_lowest=True\n",
    ")\n",
    "\n",
    "merged_data[\"income_group\"] = pd.cut(\n",
    "    merged_data[\"annual_income\"], bins=[0, 50000, 150000, np.inf], labels=[\"Low\", \"Medium\", \"High\"], include_lowest=True\n",
    ")\n",
    "\n",
    "merged_data[\"net_worth_level\"] = pd.cut(\n",
    "    merged_data[\"net_worth\"], bins=[0, 50000, 200000, np.inf], labels=[\"Poor\", \"Stable\", \"Wealthy\"], include_lowest=True\n",
    ")"
   ]
  },
  {
   "cell_type": "code",
   "execution_count": 9,
   "metadata": {},
   "outputs": [
    {
     "data": {
      "text/plain": [
       "Index(['client_id', 'age', 'gender', 'employment_status', 'annual_income',\n",
       "       'debt_to_income_ratio', 'financial_knowledge_score', 'investment_goals',\n",
       "       'risk_appetite', 'investment_horizon_years', 'dependents',\n",
       "       'preferred_asset_classes', 'savings_rate', 'net_worth',\n",
       "       'recommended_strategy', 'income_to_networth_ratio',\n",
       "       'adjusted_debt_to_income', 'age_group', 'income_group',\n",
       "       'net_worth_level'],\n",
       "      dtype='object')"
      ]
     },
     "execution_count": 9,
     "metadata": {},
     "output_type": "execute_result"
    }
   ],
   "source": [
    "merged_data.columns"
   ]
  },
  {
   "cell_type": "code",
   "execution_count": 12,
   "metadata": {},
   "outputs": [],
   "source": [
    "from sklearn.preprocessing import LabelEncoder, MultiLabelBinarizer\n",
    "from sklearn.feature_selection import chi2, SelectKBest\n",
    "\n",
    "# Convert string representation of lists to actual lists (if needed)\n",
    "merged_data[\"preferred_asset_classes\"] = merged_data[\"preferred_asset_classes\"].apply(eval)  # Only if stored as a string\n",
    "\n",
    "# One-Hot Encoding for List-Type Column\n",
    "mlb = MultiLabelBinarizer()\n",
    "one_hot_asset_classes = pd.DataFrame(mlb.fit_transform(merged_data[\"preferred_asset_classes\"]), columns=mlb.classes_)\n",
    "\n",
    "# Merge one-hot encoded columns with the dataset\n",
    "merged_data = pd.concat([merged_data.drop(columns=[\"preferred_asset_classes\"]), one_hot_asset_classes], axis=1)"
   ]
  },
  {
   "cell_type": "code",
   "execution_count": 13,
   "metadata": {},
   "outputs": [],
   "source": [
    "categorical_cols = [\n",
    "    \"gender\", \"employment_status\", \"investment_goals\", \"risk_appetite\",\n",
    "    \"age_group\", \"income_group\", \"net_worth_level\"\n",
    "] + list(mlb.classes_)  # Include one-hot encoded asset classes\n",
    "\n",
    "encoder = LabelEncoder()\n",
    "for col in categorical_cols + [\"recommended_strategy\"]:  # Include target variable\n",
    "    merged_data[col] = encoder.fit_transform(merged_data[col])"
   ]
  },
  {
   "cell_type": "code",
   "execution_count": 14,
   "metadata": {},
   "outputs": [
    {
     "name": "stdout",
     "output_type": "stream",
     "text": [
      "              Feature  Chi2 Score   P-value\n",
      "1   employment_status    4.053416  0.131769\n",
      "4           age_group    1.337551  0.512336\n",
      "2    investment_goals    0.837528  0.657859\n",
      "7               Bonds    0.226241  0.893043\n",
      "9        Mutual Funds    0.168171  0.919353\n",
      "3       risk_appetite    0.149767  0.927852\n",
      "8                ETFs    0.148987  0.928213\n",
      "0              gender    0.134586  0.934921\n",
      "11             Stocks    0.107243  0.947791\n",
      "10        Real Estate    0.085335  0.958230\n",
      "6     net_worth_level    0.062290  0.969335\n",
      "5        income_group    0.002733  0.998634\n"
     ]
    }
   ],
   "source": [
    "X = merged_data[categorical_cols]  # Feature set\n",
    "y = merged_data[\"recommended_strategy\"]  # Target variable\n",
    "\n",
    "# Chi-Square Feature Selection\n",
    "chi2_selector = SelectKBest(chi2, k=\"all\")  # Select all for ranking\n",
    "chi2_selector.fit(X, y)\n",
    "\n",
    "# Get Chi2 scores and p-values\n",
    "feature_importance = pd.DataFrame({\n",
    "    \"Feature\": categorical_cols,\n",
    "    \"Chi2 Score\": chi2_selector.scores_,\n",
    "    \"P-value\": chi2_selector.pvalues_\n",
    "}).sort_values(by=\"Chi2 Score\", ascending=False)\n",
    "\n",
    "# Print feature importance results\n",
    "print(feature_importance)"
   ]
  },
  {
   "cell_type": "code",
   "execution_count": null,
   "metadata": {},
   "outputs": [],
   "source": []
  }
 ],
 "metadata": {
  "kernelspec": {
   "display_name": "Python 3",
   "language": "python",
   "name": "python3"
  },
  "language_info": {
   "codemirror_mode": {
    "name": "ipython",
    "version": 3
   },
   "file_extension": ".py",
   "mimetype": "text/x-python",
   "name": "python",
   "nbconvert_exporter": "python",
   "pygments_lexer": "ipython3",
   "version": "3.12.5"
  }
 },
 "nbformat": 4,
 "nbformat_minor": 2
}
